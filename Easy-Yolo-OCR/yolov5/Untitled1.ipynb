{
 "cells": [
  {
   "cell_type": "code",
   "execution_count": 1,
   "id": "5bb730f4-e366-44ff-b1be-2ca0c2f3babd",
   "metadata": {},
   "outputs": [
    {
     "name": "stdout",
     "output_type": "stream",
     "text": [
      "Traceback (most recent call last):\n",
      "  File \"train.py\", line 53, in <module>\n",
      "    from utils.loggers import Loggers\n",
      "  File \"/mnt/c/Users/dms16/Desktop/project/Easy-Yolo-OCR/yolov5/utils/loggers/__init__.py\", line 15, in <module>\n",
      "    from utils.loggers.wandb.wandb_utils import WandbLogger\n",
      "ModuleNotFoundError: No module named 'utils.loggers.wandb'\n"
     ]
    }
   ],
   "source": [
    "!python3 train.py --data \"data/lol_data.yaml\" --epochs 100"
   ]
  },
  {
   "cell_type": "code",
   "execution_count": null,
   "id": "961e9b32-f1dc-4cb5-9d1d-70030661fea1",
   "metadata": {},
   "outputs": [],
   "source": []
  }
 ],
 "metadata": {
  "kernelspec": {
   "display_name": "Python 3",
   "language": "python",
   "name": "python3"
  },
  "language_info": {
   "codemirror_mode": {
    "name": "ipython",
    "version": 3
   },
   "file_extension": ".py",
   "mimetype": "text/x-python",
   "name": "python",
   "nbconvert_exporter": "python",
   "pygments_lexer": "ipython3",
   "version": "3.6.9"
  }
 },
 "nbformat": 4,
 "nbformat_minor": 5
}
